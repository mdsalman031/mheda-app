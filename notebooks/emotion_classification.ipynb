{
 "cells": [
  {
   "cell_type": "code",
   "execution_count": 2,
   "id": "ae05a100",
   "metadata": {},
   "outputs": [
    {
     "name": "stdout",
     "output_type": "stream",
     "text": [
      "✅ All libraries are working!\n"
     ]
    }
   ],
   "source": [
    "# Test: Is everything working?\n",
    "import pandas as pd\n",
    "import numpy as np\n",
    "import matplotlib.pyplot as plt\n",
    "import seaborn as sns\n",
    "import sklearn\n",
    "import nltk\n",
    "import transformers\n",
    "import datasets\n",
    "\n",
    "print(\"✅ All libraries are working!\")\n"
   ]
  },
  {
   "cell_type": "code",
   "execution_count": 3,
   "id": "b4b92cfb",
   "metadata": {},
   "outputs": [
    {
     "name": "stderr",
     "output_type": "stream",
     "text": [
      "[nltk_data] Downloading package punkt to\n",
      "[nltk_data]     C:\\Users\\Salman\\AppData\\Roaming\\nltk_data...\n",
      "[nltk_data]   Package punkt is already up-to-date!\n",
      "[nltk_data] Downloading package stopwords to\n",
      "[nltk_data]     C:\\Users\\Salman\\AppData\\Roaming\\nltk_data...\n",
      "[nltk_data]   Unzipping corpora\\stopwords.zip.\n"
     ]
    },
    {
     "data": {
      "text/plain": [
       "True"
      ]
     },
     "execution_count": 3,
     "metadata": {},
     "output_type": "execute_result"
    }
   ],
   "source": [
    "import nltk\n",
    "nltk.download('punkt')\n",
    "nltk.download('stopwords')\n"
   ]
  },
  {
   "cell_type": "code",
   "execution_count": 36,
   "id": "b2e8cdee-612d-4607-b14c-c87611b1a48f",
   "metadata": {},
   "outputs": [
    {
     "name": "stdout",
     "output_type": "stream",
     "text": [
      "✅ Sample data:\n",
      "{'text': \"My favourite food is anything I didn't have to cook myself.\", 'labels': [27], 'id': 'eebbqej'}\n"
     ]
    }
   ],
   "source": [
    "from datasets import load_dataset, concatenate_datasets\n",
    "import pandas as pd\n",
    "\n",
    "# Load all three splits of the dataset\n",
    "dataset = load_dataset(\"go_emotions\", \"simplified\")\n",
    "\n",
    "# Combine train, validation, and test splits\n",
    "full_dataset = concatenate_datasets([\n",
    "    dataset[\"train\"],\n",
    "    dataset[\"validation\"],\n",
    "    dataset[\"test\"]\n",
    "])\n",
    "\n",
    "# View a sample\n",
    "print(\"✅ Sample data:\")\n",
    "print(full_dataset[0])"
   ]
  },
  {
   "cell_type": "code",
   "execution_count": 37,
   "id": "227a3121-ae42-43c9-ba3d-a483ed65a8d4",
   "metadata": {},
   "outputs": [
    {
     "name": "stdout",
     "output_type": "stream",
     "text": [
      "\n",
      "📋 Emotion labels:\n",
      "0: admiration\n",
      "1: amusement\n",
      "2: anger\n",
      "3: annoyance\n",
      "4: approval\n",
      "5: caring\n",
      "6: confusion\n",
      "7: curiosity\n",
      "8: desire\n",
      "9: disappointment\n",
      "10: disapproval\n",
      "11: disgust\n",
      "12: embarrassment\n",
      "13: excitement\n",
      "14: fear\n",
      "15: gratitude\n",
      "16: grief\n",
      "17: joy\n",
      "18: love\n",
      "19: nervousness\n",
      "20: optimism\n",
      "21: pride\n",
      "22: realization\n",
      "23: relief\n",
      "24: remorse\n",
      "25: sadness\n",
      "26: surprise\n",
      "27: neutral\n"
     ]
    }
   ],
   "source": [
    "# Get list of emotion labels\n",
    "label_names = dataset['train'].features['labels'].feature.names\n",
    "print(\"\\n📋 Emotion labels:\")\n",
    "for i, label in enumerate(label_names):\n",
    "    print(f\"{i}: {label}\")"
   ]
  },
  {
   "cell_type": "code",
   "execution_count": 38,
   "id": "1847b672-e8e6-431a-a851-00be66896d4b",
   "metadata": {},
   "outputs": [
    {
     "name": "stdout",
     "output_type": "stream",
     "text": [
      "\n",
      "✅ Total samples loaded: 54263\n"
     ]
    },
    {
     "data": {
      "text/html": [
       "<div>\n",
       "<style scoped>\n",
       "    .dataframe tbody tr th:only-of-type {\n",
       "        vertical-align: middle;\n",
       "    }\n",
       "\n",
       "    .dataframe tbody tr th {\n",
       "        vertical-align: top;\n",
       "    }\n",
       "\n",
       "    .dataframe thead th {\n",
       "        text-align: right;\n",
       "    }\n",
       "</style>\n",
       "<table border=\"1\" class=\"dataframe\">\n",
       "  <thead>\n",
       "    <tr style=\"text-align: right;\">\n",
       "      <th></th>\n",
       "      <th>text</th>\n",
       "      <th>label</th>\n",
       "      <th>emotion</th>\n",
       "    </tr>\n",
       "  </thead>\n",
       "  <tbody>\n",
       "    <tr>\n",
       "      <th>0</th>\n",
       "      <td>My favourite food is anything I didn't have to...</td>\n",
       "      <td>27</td>\n",
       "      <td>neutral</td>\n",
       "    </tr>\n",
       "    <tr>\n",
       "      <th>1</th>\n",
       "      <td>Now if he does off himself, everyone will thin...</td>\n",
       "      <td>27</td>\n",
       "      <td>neutral</td>\n",
       "    </tr>\n",
       "    <tr>\n",
       "      <th>2</th>\n",
       "      <td>WHY THE FUCK IS BAYLESS ISOING</td>\n",
       "      <td>2</td>\n",
       "      <td>anger</td>\n",
       "    </tr>\n",
       "    <tr>\n",
       "      <th>3</th>\n",
       "      <td>To make her feel threatened</td>\n",
       "      <td>14</td>\n",
       "      <td>fear</td>\n",
       "    </tr>\n",
       "    <tr>\n",
       "      <th>4</th>\n",
       "      <td>Dirty Southern Wankers</td>\n",
       "      <td>3</td>\n",
       "      <td>annoyance</td>\n",
       "    </tr>\n",
       "  </tbody>\n",
       "</table>\n",
       "</div>"
      ],
      "text/plain": [
       "                                                text  label    emotion\n",
       "0  My favourite food is anything I didn't have to...     27    neutral\n",
       "1  Now if he does off himself, everyone will thin...     27    neutral\n",
       "2                     WHY THE FUCK IS BAYLESS ISOING      2      anger\n",
       "3                        To make her feel threatened     14       fear\n",
       "4                             Dirty Southern Wankers      3  annoyance"
      ]
     },
     "execution_count": 38,
     "metadata": {},
     "output_type": "execute_result"
    }
   ],
   "source": [
    "# Convert HuggingFace dataset to pandas DataFrame\n",
    "df = pd.DataFrame(full_dataset)\n",
    "\n",
    "# Extract only the first label from the multi-label list\n",
    "df['label'] = df['labels'].apply(lambda x: x[0])  # convert [7] → 7\n",
    "\n",
    "# Keep only required columns\n",
    "df = df[['text', 'label']]\n",
    "\n",
    "# Map label number to emotion name\n",
    "label_map = {i: label for i, label in enumerate(label_names)}\n",
    "df['emotion'] = df['label'].map(label_map)\n",
    "\n",
    "# Preview the DataFrame\n",
    "print(\"\\n✅ Total samples loaded:\", len(df))\n",
    "df.head()"
   ]
  },
  {
   "cell_type": "markdown",
   "id": "3e9a0696-2c44-4901-a172-f1bdc0a6c45a",
   "metadata": {},
   "source": [
    " # 1. Preprocess the Text"
   ]
  },
  {
   "cell_type": "code",
   "execution_count": 39,
   "id": "9392ec07-2f2d-4791-92df-d7e960d15ca0",
   "metadata": {},
   "outputs": [
    {
     "name": "stderr",
     "output_type": "stream",
     "text": [
      "[nltk_data] Downloading package punkt to\n",
      "[nltk_data]     C:\\Users\\Salman\\AppData\\Roaming\\nltk_data...\n",
      "[nltk_data]   Package punkt is already up-to-date!\n",
      "[nltk_data] Downloading package stopwords to\n",
      "[nltk_data]     C:\\Users\\Salman\\AppData\\Roaming\\nltk_data...\n",
      "[nltk_data]   Package stopwords is already up-to-date!\n"
     ]
    },
    {
     "data": {
      "text/html": [
       "<div>\n",
       "<style scoped>\n",
       "    .dataframe tbody tr th:only-of-type {\n",
       "        vertical-align: middle;\n",
       "    }\n",
       "\n",
       "    .dataframe tbody tr th {\n",
       "        vertical-align: top;\n",
       "    }\n",
       "\n",
       "    .dataframe thead th {\n",
       "        text-align: right;\n",
       "    }\n",
       "</style>\n",
       "<table border=\"1\" class=\"dataframe\">\n",
       "  <thead>\n",
       "    <tr style=\"text-align: right;\">\n",
       "      <th></th>\n",
       "      <th>text</th>\n",
       "      <th>clean_text</th>\n",
       "      <th>emotion</th>\n",
       "    </tr>\n",
       "  </thead>\n",
       "  <tbody>\n",
       "    <tr>\n",
       "      <th>0</th>\n",
       "      <td>My favourite food is anything I didn't have to...</td>\n",
       "      <td>favourite food anything didnt cook</td>\n",
       "      <td>neutral</td>\n",
       "    </tr>\n",
       "    <tr>\n",
       "      <th>1</th>\n",
       "      <td>Now if he does off himself, everyone will thin...</td>\n",
       "      <td>everyone think hes laugh screwing people inste...</td>\n",
       "      <td>neutral</td>\n",
       "    </tr>\n",
       "    <tr>\n",
       "      <th>2</th>\n",
       "      <td>WHY THE FUCK IS BAYLESS ISOING</td>\n",
       "      <td>fuck bayless isoing</td>\n",
       "      <td>anger</td>\n",
       "    </tr>\n",
       "    <tr>\n",
       "      <th>3</th>\n",
       "      <td>To make her feel threatened</td>\n",
       "      <td>make feel threatened</td>\n",
       "      <td>fear</td>\n",
       "    </tr>\n",
       "    <tr>\n",
       "      <th>4</th>\n",
       "      <td>Dirty Southern Wankers</td>\n",
       "      <td>dirty southern wankers</td>\n",
       "      <td>annoyance</td>\n",
       "    </tr>\n",
       "  </tbody>\n",
       "</table>\n",
       "</div>"
      ],
      "text/plain": [
       "                                                text  \\\n",
       "0  My favourite food is anything I didn't have to...   \n",
       "1  Now if he does off himself, everyone will thin...   \n",
       "2                     WHY THE FUCK IS BAYLESS ISOING   \n",
       "3                        To make her feel threatened   \n",
       "4                             Dirty Southern Wankers   \n",
       "\n",
       "                                          clean_text    emotion  \n",
       "0                 favourite food anything didnt cook    neutral  \n",
       "1  everyone think hes laugh screwing people inste...    neutral  \n",
       "2                                fuck bayless isoing      anger  \n",
       "3                               make feel threatened       fear  \n",
       "4                             dirty southern wankers  annoyance  "
      ]
     },
     "execution_count": 39,
     "metadata": {},
     "output_type": "execute_result"
    }
   ],
   "source": [
    "import re\n",
    "import nltk\n",
    "from nltk.corpus import stopwords\n",
    "\n",
    "nltk.download('punkt')\n",
    "nltk.download('stopwords')\n",
    "\n",
    "stop_words = set(stopwords.words('english'))\n",
    "\n",
    "# Function to clean and preprocess text\n",
    "def clean_text(text):\n",
    "    # Step 1: Convert all characters to lowercase\n",
    "    # Example: \"I Am Happy\" -> \"i am happy\"\n",
    "    text = text.lower()\n",
    "    \n",
    "    # Step 2: Remove all characters that are not alphabets or spaces\n",
    "    # This removes punctuation, numbers, and special characters\n",
    "    # Example: \"I'm happy!!! 123\" -> \"im happy\"\n",
    "    text = re.sub(r'[^a-zA-Z\\s]', '', text)\n",
    "    \n",
    "    # Step 3: Split the cleaned text into words (tokens)\n",
    "    # This splits on spaces and gives a list of words\n",
    "    tokens = text.split()\n",
    "    \n",
    "    # Step 4: Remove common stopwords like \"is\", \"the\", \"and\", etc.\n",
    "    # These words do not carry emotional weight\n",
    "    filtered = [word for word in tokens if word not in stop_words]\n",
    "    \n",
    "    # Step 5: Join the filtered tokens back into a single string\n",
    "    # Example: ['feeling', 'tired'] -> \"feeling tired\"\n",
    "    return ' '.join(filtered)\n",
    "\n",
    "# Apply cleaning\n",
    "df['clean_text'] = df['text'].apply(clean_text)\n",
    "\n",
    "df[['text', 'clean_text', 'emotion']].head()"
   ]
  },
  {
   "cell_type": "markdown",
   "id": "d965c769-59ae-4b9b-8a3d-7eeaef5c40dd",
   "metadata": {},
   "source": [
    "# 2. Convert Text to Numbers (TF-IDF)"
   ]
  },
  {
   "cell_type": "code",
   "execution_count": 40,
   "id": "f02e9d7a-fb33-45b4-907e-95d449916ec0",
   "metadata": {},
   "outputs": [],
   "source": [
    "from sklearn.feature_extraction.text import TfidfVectorizer\n",
    "\n",
    "# Convert text to numeric vectors\n",
    "vectorizer = TfidfVectorizer(max_features=5000)\n",
    "X = vectorizer.fit_transform(df['clean_text'])\n",
    "\n",
    "# Target variable (emotion label)\n",
    "y = df['emotion']"
   ]
  },
  {
   "cell_type": "markdown",
   "id": "575d6f61-59d3-456a-8cea-c6d3be73416b",
   "metadata": {},
   "source": [
    "# 3. Train a Classification Model (Logistic Regression)"
   ]
  },
  {
   "cell_type": "code",
   "execution_count": 41,
   "id": "16d39c86-8181-4270-850f-6a0c147b1dca",
   "metadata": {},
   "outputs": [],
   "source": [
    "from sklearn.linear_model import LogisticRegression\n",
    "from sklearn.model_selection import train_test_split\n",
    "from sklearn.metrics import classification_report, accuracy_score\n",
    "\n",
    "# Split into train and test\n",
    "X_train, X_test, y_train, y_test = train_test_split(X, y, test_size=0.2, random_state=42)\n",
    "\n",
    "# Train model\n",
    "model = LogisticRegression(max_iter=2000)\n",
    "model.fit(X_train, y_train)\n",
    "\n",
    "# Predict on test set\n",
    "y_pred = model.predict(X_test)"
   ]
  },
  {
   "cell_type": "markdown",
   "id": "7ef74d74-ebfe-4bcd-a75b-6fb3baa3adf9",
   "metadata": {},
   "source": [
    "# 4. Evaluate the Model"
   ]
  },
  {
   "cell_type": "code",
   "execution_count": 42,
   "id": "ba95f324-695b-4dcd-aa78-8467ec781d29",
   "metadata": {},
   "outputs": [
    {
     "name": "stdout",
     "output_type": "stream",
     "text": [
      "Accuracy: 0.4967290150188888\n",
      "\n",
      "Classification Report:\n",
      "                 precision    recall  f1-score   support\n",
      "\n",
      "    admiration       0.63      0.58      0.61      1066\n",
      "     amusement       0.70      0.70      0.70       516\n",
      "         anger       0.52      0.27      0.36       405\n",
      "     annoyance       0.36      0.11      0.17       560\n",
      "      approval       0.44      0.15      0.22       684\n",
      "        caring       0.40      0.13      0.20       233\n",
      "     confusion       0.39      0.11      0.17       283\n",
      "     curiosity       0.51      0.10      0.17       423\n",
      "        desire       0.66      0.28      0.40       144\n",
      "disappointment       0.31      0.06      0.10       260\n",
      "   disapproval       0.28      0.05      0.09       432\n",
      "       disgust       0.60      0.31      0.41       152\n",
      " embarrassment       0.44      0.06      0.11        63\n",
      "    excitement       0.44      0.19      0.26       155\n",
      "          fear       0.77      0.37      0.50       138\n",
      "     gratitude       0.79      0.81      0.80       539\n",
      "         grief       0.00      0.00      0.00        23\n",
      "           joy       0.48      0.31      0.38       248\n",
      "          love       0.68      0.62      0.65       396\n",
      "   nervousness       0.00      0.00      0.00        28\n",
      "       neutral       0.43      0.88      0.58      3175\n",
      "      optimism       0.54      0.44      0.48       238\n",
      "         pride       0.00      0.00      0.00        21\n",
      "   realization       0.42      0.07      0.11       150\n",
      "        relief       0.00      0.00      0.00        33\n",
      "       remorse       0.46      0.53      0.49        81\n",
      "       sadness       0.56      0.26      0.36       217\n",
      "      surprise       0.41      0.21      0.28       190\n",
      "\n",
      "      accuracy                           0.50     10853\n",
      "     macro avg       0.44      0.27      0.31     10853\n",
      "  weighted avg       0.50      0.50      0.44     10853\n",
      "\n"
     ]
    },
    {
     "name": "stderr",
     "output_type": "stream",
     "text": [
      "C:\\Users\\Salman\\AppData\\Local\\Programs\\Python\\Python313\\Lib\\site-packages\\sklearn\\metrics\\_classification.py:1706: UndefinedMetricWarning: Precision is ill-defined and being set to 0.0 in labels with no predicted samples. Use `zero_division` parameter to control this behavior.\n",
      "  _warn_prf(average, modifier, f\"{metric.capitalize()} is\", result.shape[0])\n",
      "C:\\Users\\Salman\\AppData\\Local\\Programs\\Python\\Python313\\Lib\\site-packages\\sklearn\\metrics\\_classification.py:1706: UndefinedMetricWarning: Precision is ill-defined and being set to 0.0 in labels with no predicted samples. Use `zero_division` parameter to control this behavior.\n",
      "  _warn_prf(average, modifier, f\"{metric.capitalize()} is\", result.shape[0])\n",
      "C:\\Users\\Salman\\AppData\\Local\\Programs\\Python\\Python313\\Lib\\site-packages\\sklearn\\metrics\\_classification.py:1706: UndefinedMetricWarning: Precision is ill-defined and being set to 0.0 in labels with no predicted samples. Use `zero_division` parameter to control this behavior.\n",
      "  _warn_prf(average, modifier, f\"{metric.capitalize()} is\", result.shape[0])\n"
     ]
    }
   ],
   "source": [
    "print(\"Accuracy:\", accuracy_score(y_test, y_pred))\n",
    "print(\"\\nClassification Report:\\n\", classification_report(y_test, y_pred))"
   ]
  },
  {
   "cell_type": "markdown",
   "id": "62d80006-6c6d-4bbb-b4ad-30a501c12d62",
   "metadata": {},
   "source": [
    "# Mood Trend Tracker – Step-by-Step Plan"
   ]
  },
  {
   "cell_type": "markdown",
   "id": "33710537-dbc3-4427-9d26-0c943d0638b2",
   "metadata": {},
   "source": [
    "#  Step 1: Simulate Journal Entries"
   ]
  },
  {
   "cell_type": "code",
   "execution_count": 43,
   "id": "d5f70762-25fe-4fa1-9245-a978f5ee86a4",
   "metadata": {},
   "outputs": [],
   "source": [
    "from datetime import datetime, timedelta\n",
    "\n",
    "# Example fake daily journal entries (feel free to modify or add your own)\n",
    "entries = [\n",
    "    \"I feel so grateful for my family and friends.\",\n",
    "    \"I'm feeling very sad and lonely today.\",\n",
    "    \"What an amazing day! I loved everything about it.\",\n",
    "    \"I’m extremely annoyed at how my project turned out.\",\n",
    "    \"Feeling very tired and low. Nothing makes sense.\",\n",
    "    \"Super excited to start this new journey!\",\n",
    "    \"I'm really scared about my upcoming results.\",\n",
    "    \"Not sure what I feel today, kind of blank.\",\n",
    "    \"It was a boring and stressful day.\",\n",
    "    \"I had a good laugh with my team. Felt nice!\",\n",
    "    \"Missed an opportunity today. Feeling regretful.\",\n",
    "    \"I’m curious about this new project at work.\",\n",
    "    \"Someone said something that made me feel appreciated.\",\n",
    "    \"Honestly, I’m just okay today. Nothing special.\",\n",
    "    \"Felt disgusted by some rude behavior in class.\"\n",
    "]\n",
    "\n",
    "# Generate dates for the last N days\n",
    "start_date = datetime.today() - timedelta(days=len(entries) - 1)\n",
    "dates = [start_date + timedelta(days=i) for i in range(len(entries))]"
   ]
  },
  {
   "cell_type": "markdown",
   "id": "c4afffff-9953-4b7e-82de-b2fd0b225c5f",
   "metadata": {},
   "source": [
    "#  Step 2: Predict Emotions"
   ]
  },
  {
   "cell_type": "code",
   "execution_count": 44,
   "id": "eb9b398f-8aec-49ce-8e4c-f4e6ce275a4b",
   "metadata": {},
   "outputs": [],
   "source": [
    "# Clean and vectorize entries\n",
    "cleaned_entries = [clean_text(entry) for entry in entries]\n",
    "X_entries = vectorizer.transform(cleaned_entries)\n",
    "predicted_emotions = model.predict(X_entries)"
   ]
  },
  {
   "cell_type": "markdown",
   "id": "fe4b5ba5-3676-4eda-9060-df0c0ca7896d",
   "metadata": {},
   "source": [
    "# Step 3: Create Mood DataFrame"
   ]
  },
  {
   "cell_type": "code",
   "execution_count": 45,
   "id": "ee5b1ecf-8105-4d1a-9480-91fb0fe198a8",
   "metadata": {},
   "outputs": [
    {
     "name": "stdout",
     "output_type": "stream",
     "text": [
      "\n",
      "📝 Mood Tracker Data:\n",
      "          Date                                      Journal Entry  \\\n",
      "0   2025-06-11      I feel so grateful for my family and friends.   \n",
      "1   2025-06-12             I'm feeling very sad and lonely today.   \n",
      "2   2025-06-13  What an amazing day! I loved everything about it.   \n",
      "3   2025-06-14  I’m extremely annoyed at how my project turned...   \n",
      "4   2025-06-15   Feeling very tired and low. Nothing makes sense.   \n",
      "5   2025-06-16           Super excited to start this new journey!   \n",
      "6   2025-06-17       I'm really scared about my upcoming results.   \n",
      "7   2025-06-18         Not sure what I feel today, kind of blank.   \n",
      "8   2025-06-19                 It was a boring and stressful day.   \n",
      "9   2025-06-20        I had a good laugh with my team. Felt nice!   \n",
      "10  2025-06-21    Missed an opportunity today. Feeling regretful.   \n",
      "11  2025-06-22        I’m curious about this new project at work.   \n",
      "12  2025-06-23  Someone said something that made me feel appre...   \n",
      "13  2025-06-24    Honestly, I’m just okay today. Nothing special.   \n",
      "14  2025-06-25     Felt disgusted by some rude behavior in class.   \n",
      "\n",
      "   Predicted Emotion  \n",
      "0            neutral  \n",
      "1            sadness  \n",
      "2         admiration  \n",
      "3          annoyance  \n",
      "4            neutral  \n",
      "5         excitement  \n",
      "6               fear  \n",
      "7            neutral  \n",
      "8            neutral  \n",
      "9         admiration  \n",
      "10           neutral  \n",
      "11         curiosity  \n",
      "12           neutral  \n",
      "13          approval  \n",
      "14           neutral  \n"
     ]
    }
   ],
   "source": [
    "# Build DataFrame\n",
    "mood_df = pd.DataFrame({\n",
    "    \"Date\": [d.date() for d in dates],\n",
    "    \"Journal Entry\": entries,\n",
    "    \"Predicted Emotion\": predicted_emotions\n",
    "})\n",
    "\n",
    "print(\"\\n📝 Mood Tracker Data:\")\n",
    "print(mood_df)"
   ]
  },
  {
   "cell_type": "markdown",
   "id": "c4c1c84b-0f2d-410b-a29b-eb5ac34f86d0",
   "metadata": {},
   "source": [
    "# Step 4: Plot Mood Trend 📈"
   ]
  },
  {
   "cell_type": "code",
   "execution_count": 46,
   "id": "d727dc9f-0700-4921-9f0a-11b07c61d8a4",
   "metadata": {},
   "outputs": [
    {
     "name": "stderr",
     "output_type": "stream",
     "text": [
      "C:\\Users\\Salman\\AppData\\Local\\Temp\\ipykernel_21376\\3037023946.py:11: UserWarning: Glyph 129504 (\\N{BRAIN}) missing from font(s) DejaVu Sans.\n",
      "  plt.tight_layout()\n",
      "C:\\Users\\Salman\\AppData\\Local\\Programs\\Python\\Python313\\Lib\\site-packages\\IPython\\core\\pylabtools.py:170: UserWarning: Glyph 129504 (\\N{BRAIN}) missing from font(s) DejaVu Sans.\n",
      "  fig.canvas.print_figure(bytes_io, **kw)\n"
     ]
    },
    {
     "data": {
      "image/png": "[encoded data removed]",
      "text/plain": [
       "<Figure size 1200x600 with 1 Axes>"
      ]
     },
     "metadata": {},
     "output_type": "display_data"
    }
   ],
   "source": [
    "import matplotlib.pyplot as plt\n",
    "\n",
    "# Count emotions per day (if same emotions appear repeatedly, group them)\n",
    "plt.figure(figsize=(12, 6))\n",
    "plt.plot(mood_df[\"Date\"], mood_df[\"Predicted Emotion\"], marker='o', linestyle='-', color='skyblue')\n",
    "plt.xticks(rotation=45)\n",
    "plt.title(\"🧠 Mood Trend Over Time\")\n",
    "plt.xlabel(\"Date\")\n",
    "plt.ylabel(\"Predicted Emotion\")\n",
    "plt.grid(True)\n",
    "plt.tight_layout()\n",
    "plt.show()"
   ]
  },
  {
   "cell_type": "markdown",
   "id": "1b391b70-56f6-4352-b010-586743f0e87e",
   "metadata": {},
   "source": [
    "# Save Your Model"
   ]
  },
  {
   "cell_type": "code",
   "execution_count": 48,
   "id": "4c8417cc-6ee5-4084-bf59-40fd0b520435",
   "metadata": {},
   "outputs": [
    {
     "data": {
      "text/plain": [
       "['../models/tfidf_vectorizer.pkl']"
      ]
     },
     "execution_count": 48,
     "metadata": {},
     "output_type": "execute_result"
    }
   ],
   "source": [
    "import joblib\n",
    "\n",
    "joblib.dump(model, \"../models/emotion_model.pkl\")\n",
    "joblib.dump(vectorizer, \"../models/tfidf_vectorizer.pkl\")"
   ]
  },
  {
   "cell_type": "code",
   "execution_count": null,
   "id": "40fc02c5-4ceb-4076-a8a7-8f8d13348946",
   "metadata": {},
   "outputs": [],
   "source": []
  }
 ],
 "metadata": {
  "kernelspec": {
   "display_name": "Python 3 (ipykernel)",
   "language": "python",
   "name": "python3"
  },
  "language_info": {
   "codemirror_mode": {
    "name": "ipython",
    "version": 3
   },
   "file_extension": ".py",
   "mimetype": "text/x-python",
   "name": "python",
   "nbconvert_exporter": "python",
   "pygments_lexer": "ipython3",
   "version": "3.13.1"
  }
 },
 "nbformat": 4,
 "nbformat_minor": 5
}
